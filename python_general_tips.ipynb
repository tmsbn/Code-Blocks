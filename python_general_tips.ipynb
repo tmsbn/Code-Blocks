{
 "cells": [
  {
   "cell_type": "markdown",
   "metadata": {},
   "source": [
    "### Static variables"
   ]
  },
  {
   "cell_type": "code",
   "execution_count": 20,
   "metadata": {
    "collapsed": true
   },
   "outputs": [],
   "source": [
    "class Pet:\n",
    "    pet_count = 0\n",
    "    def __init__(self, name):\n",
    "        self.name = name\n",
    "        Pet.pet_count += 1\n",
    "    def __str__(self):\n",
    "        return self.name + ':' + str(Pet.pet_count)"
   ]
  },
  {
   "cell_type": "code",
   "execution_count": 21,
   "metadata": {},
   "outputs": [
    {
     "name": "stdout",
     "output_type": "stream",
     "text": [
      "cat:1\n"
     ]
    }
   ],
   "source": [
    "cat = Pet('cat')\n",
    "print(cat)"
   ]
  },
  {
   "cell_type": "code",
   "execution_count": 25,
   "metadata": {},
   "outputs": [
    {
     "name": "stdout",
     "output_type": "stream",
     "text": [
      "dog:5\n"
     ]
    }
   ],
   "source": [
    "dog = Pet('dog')\n",
    "print(dog)"
   ]
  },
  {
   "cell_type": "markdown",
   "metadata": {},
   "source": [
    "### Comparing '==' vs 'is'"
   ]
  },
  {
   "cell_type": "code",
   "execution_count": 30,
   "metadata": {},
   "outputs": [
    {
     "name": "stdout",
     "output_type": "stream",
     "text": [
      "True False\n",
      "True True\n",
      "True False\n"
     ]
    }
   ],
   "source": [
    "# Large Numbers\n",
    "lnum_1 = 1000\n",
    "lnum_2 = 1000\n",
    "\n",
    "# Small Numbers\n",
    "snum_1 = 1\n",
    "snum_2 = 1\n",
    "\n",
    "# Lists\n",
    "list_1 = [1, 2, 3]\n",
    "list_2 = [1, 2, 3]\n",
    "list_3 = list_2\n",
    "\n",
    "# Print\n",
    "print(lnum_1 == lnum_2, lnum_1 is lnum_2)\n",
    "print(snum_1 == snum_2, snum_1 is snum_2) # Small numbers 0 - 256 are stored as singletons\n",
    "print(list_1 == list_2, list_1 is list_2)\n",
    "print()"
   ]
  },
  {
   "cell_type": "markdown",
   "metadata": {},
   "source": [
    "### How to use zip functions"
   ]
  },
  {
   "cell_type": "code",
   "execution_count": 50,
   "metadata": {},
   "outputs": [
    {
     "name": "stdout",
     "output_type": "stream",
     "text": [
      "[1, 2, 3, 4, 5]\n",
      "['Sun', 'Mon', 'Tue', 'Wed', 'Thu', 'Friday']\n"
     ]
    },
    {
     "data": {
      "text/plain": [
       "{1: 'Sun', 2: 'Mon', 3: 'Tue', 4: 'Wed', 5: 'Thu'}"
      ]
     },
     "execution_count": 50,
     "metadata": {},
     "output_type": "execute_result"
    }
   ],
   "source": [
    "weekdays = ['Sun', 'Mon', 'Tue', 'Wed', 'Thu', 'Friday']\n",
    "days = [1, 2, 3, 4, 5]\n",
    "\n",
    "print(list(days))\n",
    "print(list(weekdays))\n",
    "\n",
    "zipped = zip(day, weekdays)\n",
    "dict(zipped)"
   ]
  },
  {
   "cell_type": "markdown",
   "metadata": {},
   "source": [
    "### A program to print starts"
   ]
  },
  {
   "cell_type": "code",
   "execution_count": 47,
   "metadata": {},
   "outputs": [
    {
     "name": "stdout",
     "output_type": "stream",
     "text": [
      "    *    \n",
      "   ***   \n",
      "  *****  \n",
      " ******* \n",
      "*********\n",
      " ******* \n",
      "  *****  \n",
      "   ***   \n",
      "    *    \n"
     ]
    }
   ],
   "source": [
    "width = 9\n",
    "height = 9\n",
    "upper = width // 2\n",
    "lower = width // 2\n",
    "\n",
    "for i in range(height):\n",
    "    for j in range(width):\n",
    "        if lower <= j <= upper:\n",
    "            print('*', end='')\n",
    "        else:\n",
    "            print(' ', end='')\n",
    "    print()\n",
    "    if i < (height // 2): \n",
    "        lower -= 1\n",
    "        upper += 1\n",
    "    else:\n",
    "        lower += 1\n",
    "        upper -= 1"
   ]
  },
  {
   "cell_type": "markdown",
   "metadata": {},
   "source": [
    "### Is python pass by value or pass by reference?\n",
    "Neither, the reference is passed by value"
   ]
  },
  {
   "cell_type": "code",
   "execution_count": 49,
   "metadata": {},
   "outputs": [
    {
     "name": "stdout",
     "output_type": "stream",
     "text": [
      "[1, 2]\n",
      "[2, 3]\n"
     ]
    }
   ],
   "source": [
    "def change_val(eggs):\n",
    "    eggs.append(1)\n",
    "    eggs = [2, 3]\n",
    "    print(eggs)\n",
    "\n",
    "eggs = [1, 2]\n",
    "print(eggs)\n",
    "change_val(eggs)"
   ]
  },
  {
   "cell_type": "markdown",
   "metadata": {},
   "source": [
    "### Pickling Example\n",
    "How to pickle and unpickle"
   ]
  },
  {
   "cell_type": "code",
   "execution_count": 57,
   "metadata": {},
   "outputs": [
    {
     "name": "stdout",
     "output_type": "stream",
     "text": [
      "True\n"
     ]
    }
   ],
   "source": [
    "import pickle\n",
    "\n",
    "a_dict = {'hello': 'world'}\n",
    "with open('test_file', 'wb') as file_handle:\n",
    "    pickle.dump(a_dict, file_handle, protocol = pickle.HIGHEST_PROTOCOL)\n",
    "    \n",
    "with open('test_file', 'rb') as file_handle:\n",
    "    b_dict = pickle.load(file_handle)\n",
    "\n",
    "print(a_dict == b_dict)"
   ]
  },
  {
   "cell_type": "markdown",
   "metadata": {},
   "source": [
    "### Fizz Buzz"
   ]
  },
  {
   "cell_type": "code",
   "execution_count": 60,
   "metadata": {},
   "outputs": [
    {
     "name": "stdout",
     "output_type": "stream",
     "text": [
      "fizz\n",
      "buzz\n",
      "fizz\n",
      "fizz\n",
      "buzz\n",
      "fizz\n",
      "Fizz_buzz\n"
     ]
    }
   ],
   "source": [
    "def fizz_buzz(n):\n",
    "    for i in range(1, n):\n",
    "        if i % 3 == 0 and i % 5 == 0:\n",
    "            print('Fizz_buzz')\n",
    "        elif i % 3 == 0:\n",
    "            print('fizz')\n",
    "        elif i % 5 == 0:\n",
    "            print('buzz')\n",
    "fizz_buzz(16)"
   ]
  },
  {
   "cell_type": "markdown",
   "metadata": {},
   "source": [
    "### List comprehension"
   ]
  },
  {
   "cell_type": "code",
   "execution_count": null,
   "metadata": {},
   "outputs": [],
   "source": [
    "def get_prime(max_num):\n",
    "    return [x for x in range(2, max_num) if all( x % n != 0 for n in range(2, x))]"
   ]
  },
  {
   "cell_type": "markdown",
   "metadata": {},
   "source": [
    "### Merge sorted lists\n",
    "Notice the clever use of pop"
   ]
  },
  {
   "cell_type": "code",
   "execution_count": 61,
   "metadata": {},
   "outputs": [
    {
     "name": "stdout",
     "output_type": "stream",
     "text": [
      "[2, 3, 5, 5, 7, 7, 10, 11, 12, 15, 15, 40]\n"
     ]
    }
   ],
   "source": [
    "def merge_sorted():\n",
    "    a = [2, 3, 5, 7, 10, 12, 15]\n",
    "    b = [5, 7, 11, 15, 40]\n",
    "    c = []\n",
    "    while a and b:\n",
    "        if a[0] < b[0]:\n",
    "            c.append(a.pop(0))\n",
    "        else:\n",
    "            c.append(b.pop(0))\n",
    "    print(c + a + b)\n",
    "\n",
    "merge_sorted()"
   ]
  },
  {
   "cell_type": "markdown",
   "metadata": {},
   "source": [
    "### Global and static variables"
   ]
  },
  {
   "cell_type": "code",
   "execution_count": 67,
   "metadata": {},
   "outputs": [
    {
     "name": "stdout",
     "output_type": "stream",
     "text": [
      "Thomas\n"
     ]
    }
   ],
   "source": [
    "def print_name():\n",
    "    '''Example of global variable being inferred'''\n",
    "    print(name)\n",
    "\n",
    "name = 'Thomas'\n",
    "print_name()"
   ]
  },
  {
   "cell_type": "code",
   "execution_count": null,
   "metadata": {
    "collapsed": true
   },
   "outputs": [],
   "source": [
    "def print_name():\n",
    "    '''Example of intrepreter being confused'''\n",
    "    print(name)\n",
    "    name = 'Joseph'\n",
    "    print(name)\n",
    "    \n",
    "name = 'Joseph'\n",
    "print_name()"
   ]
  },
  {
   "cell_type": "code",
   "execution_count": null,
   "metadata": {
    "collapsed": true
   },
   "outputs": [],
   "source": []
  }
 ],
 "metadata": {
  "kernelspec": {
   "display_name": "Python 3",
   "language": "python",
   "name": "python3"
  },
  "language_info": {
   "codemirror_mode": {
    "name": "ipython",
    "version": 3
   },
   "file_extension": ".py",
   "mimetype": "text/x-python",
   "name": "python",
   "nbconvert_exporter": "python",
   "pygments_lexer": "ipython3",
   "version": "3.6.1"
  }
 },
 "nbformat": 4,
 "nbformat_minor": 2
}
